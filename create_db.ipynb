{
 "cells": [
  {
   "cell_type": "code",
   "execution_count": 13,
   "metadata": {},
   "outputs": [],
   "source": [
    "import sqlite3\n",
    "conn = sqlite3.connect('Final_proj.db')"
   ]
  },
  {
   "cell_type": "code",
   "execution_count": 14,
   "metadata": {},
   "outputs": [],
   "source": [
    "c = conn.cursor()\n",
    "c.execute('''CREATE TABLE Neighbor\n",
    "       (Neighborhood  TEXT   NOT NULL,\n",
    "       Median_Income  INTGER NOT NULL,\n",
    "       Poverty_Rate   REAL   NOT NULL,\n",
    "       X_High_School_Education  REAL  NOT NULL,\n",
    "       Percent_Living_Alone  REAL  NOT NULL);''')\n",
    "conn.commit()\n",
    "conn.close()"
   ]
  },
  {
   "cell_type": "code",
   "execution_count": 35,
   "metadata": {},
   "outputs": [],
   "source": [
    "import pandas as pd\n",
    "\n",
    "data = pd.read_csv('Neighborhood.csv')\n",
    "insert = 'INSERT INTO Neighbor VALUES (1, 2, 3, 4, 5);'\n",
    "data = data[['Neighborhood','Median.Income','Poverty.Rate','X..High.School.Education','Percent.Living.Alone']]\n",
    "conn = sqlite3.connect('Final_proj.db')\n",
    "c = conn.cursor()\n",
    "for i in range(34):\n",
    "    db_data = insert.split()\n",
    "    lis = list(data.iloc[i,:])\n",
    "    db_data[4] = \"('\"+lis[0]+\"',\"\n",
    "    db_data[5] = str(lis[1])+','\n",
    "    db_data[6] = str(lis[2])+','\n",
    "    db_data[7] = str(lis[3])+','\n",
    "    db_data[8] = str(lis[4])+');'\n",
    "    comm = ' '.join(db_data)\n",
    "    c.execute(comm)\n",
    "conn.commit()\n",
    "conn.close()\n",
    "# data.iloc[i,:]"
   ]
  },
  {
   "cell_type": "code",
   "execution_count": null,
   "metadata": {},
   "outputs": [],
   "source": [
    "crime['date_creat','longitude','latitude']"
   ]
  }
 ],
 "metadata": {
  "kernelspec": {
   "display_name": "Python 3",
   "language": "python",
   "name": "python3"
  },
  "language_info": {
   "codemirror_mode": {
    "name": "ipython",
    "version": 3
   },
   "file_extension": ".py",
   "mimetype": "text/x-python",
   "name": "python",
   "nbconvert_exporter": "python",
   "pygments_lexer": "ipython3",
   "version": "3.7.5"
  }
 },
 "nbformat": 4,
 "nbformat_minor": 2
}
